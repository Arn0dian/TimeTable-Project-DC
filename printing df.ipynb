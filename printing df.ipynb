{
 "cells": [
  {
   "cell_type": "code",
   "execution_count": 1,
   "metadata": {},
   "outputs": [
    {
     "name": "stdout",
     "output_type": "stream",
     "text": [
      "    Course_ID                                 Course_Name Course_Code  \\\n",
      "0           1                     Artificial Intelligence          AI   \n",
      "1           2                              Soft Computing          SC   \n",
      "2           3                        Data and Text Mining         DTM   \n",
      "3           4                     Social Network Analysis         SNA   \n",
      "4           5               Management Information System         MIS   \n",
      "5           6            Cloud Computing and Development          CCD   \n",
      "6           7                 Database Management Systems        DBMS   \n",
      "7           8             Database Management Systems Lab    DBMS Lab   \n",
      "8           9                           Operating Systems          OS   \n",
      "9          10                       Operating Systems Lab      OS Lab   \n",
      "10         11                              Web Technology          WT   \n",
      "11         12                          Web Technology Lab      WT Lab   \n",
      "12         13                        Discrete Mathematics          DM   \n",
      "13         14                    Organisational Behaviour          OB   \n",
      "14         15          Parallel and Distributed Computing         PDC   \n",
      "15         16                               Deep Learning          DL   \n",
      "16         17             Entrepreneurship and Startup II      ESU II   \n",
      "17         18      Digital Electronics and Logic Circuits        DELC   \n",
      "18         19  Digital Electronics and Logic Circuits Lab    DELC Lab   \n",
      "19         20         Object Oriented Programming In Java        OOPJ   \n",
      "20         21     Object Oriented Programming In Java Lab    OOPJ Lab   \n",
      "21         22              Data Structures and Algorithms         DSA   \n",
      "22         23          Data Structures and Algorithms Lab     DSA Lab   \n",
      "23         24                        Engineering Workshop          EW   \n",
      "24         25                  Engineering Mathematics II       EM II   \n",
      "25         26                              Modern Biology          MB   \n",
      "26         27                       Environmental Studies          ES   \n",
      "\n",
      "    Semester  Faculty_id  NOCW Type  \n",
      "0          6           3     3    N  \n",
      "1          6          14     4    N  \n",
      "2          6           6     4    N  \n",
      "3          6           1     3    N  \n",
      "4          6          15     3    N  \n",
      "5          6           9     3    L  \n",
      "6          4           4     3    N  \n",
      "7          4           4     2    L  \n",
      "8          4           3     3    N  \n",
      "9          4           3     2    L  \n",
      "10         4           2     3    N  \n",
      "11         4           2     2    L  \n",
      "12         4           5     4    N  \n",
      "13         4          16     3    N  \n",
      "14         8           2     4    N  \n",
      "15         8           4     4    N  \n",
      "16         8          13     2    N  \n",
      "17         2           8     3    N  \n",
      "18         2           8     2    L  \n",
      "19         2           7     3    N  \n",
      "20         2           7     2    L  \n",
      "21         2           6     3    N  \n",
      "22         2           6     2    L  \n",
      "23         2          12     2    L  \n",
      "24         2           5     4    N  \n",
      "25         2          10     4    N  \n",
      "26         2          11     2    N  \n",
      "         ID                Faculty_Name Visiting  Faculty_id\n",
      "0   XUF2175  Prof. Rudra Mohan Tripathy       No           1\n",
      "1   XUF2181         Prof. Chandan Misra       No           2\n",
      "2   XUF2260         Prof. Sourav Mandal       No           3\n",
      "3   XUF2276       Prof. Arif Ahmed Sekh       No           4\n",
      "4   XUF2319          Prof. Pradip Kundu       No           5\n",
      "5   XUF2332  Prof. Swarup Chattopadhyay       No           6\n",
      "6   XUF2333          Prof. Ashish Kumar       No           7\n",
      "7   XUF2335  Prof. Devendra Kumar Yadav       No           8\n",
      "8       NaN       Mr. Sripati Mohapatra       No           9\n",
      "9       NaN        Prof . Sandeep Kumar      Yes          10\n",
      "10      NaN               Ms. V.Goutami      Yes          11\n",
      "11      NaN            Mr. Sourav Panda      Yes          12\n",
      "12      NaN    Prof. Mahendra P. Agasty      Yes          13\n",
      "13      NaN    Prof. Bijan Bihari Misra      Yes          14\n",
      "14      NaN        Dr. Dilip Kumar Rath      Yes          15\n",
      "15      NaN          Prof. Vidya Pujari      Yes          16\n"
     ]
    }
   ],
   "source": [
    "import csv\n",
    "import pandas as pd\n",
    "import numpy as np\n",
    "\n",
    "\n",
    "fp = pd.read_csv('faculty.csv')\n",
    "cp = pd.read_csv('courses.csv')\n",
    "print(cp)\n",
    "print(fp)"
   ]
  }
 ],
 "metadata": {
  "kernelspec": {
   "display_name": "Python 3",
   "language": "python",
   "name": "python3"
  },
  "language_info": {
   "codemirror_mode": {
    "name": "ipython",
    "version": 3
   },
   "file_extension": ".py",
   "mimetype": "text/x-python",
   "name": "python",
   "nbconvert_exporter": "python",
   "pygments_lexer": "ipython3",
   "version": "3.10.9"
  },
  "vscode": {
   "interpreter": {
    "hash": "4ce7c43b3e4615c04d053b09fe8bf39b7cc62a9a79485ec464b31c50e06232e0"
   }
  }
 },
 "nbformat": 4,
 "nbformat_minor": 5
}
