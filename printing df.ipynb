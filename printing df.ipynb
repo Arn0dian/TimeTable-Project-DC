{
 "cells": [
  {
   "cell_type": "code",
   "execution_count": 3,
   "id": "dbcf3c34",
   "metadata": {},
   "outputs": [],
   "source": [
    "import csv\n",
    "import pandas as pd\n",
    "import numpy as np"
   ]
  }
 ],
 "metadata": {
  "kernelspec": {
   "display_name": "Python 3 (ipykernel)",
   "language": "python",
   "name": "python3"
  },
  "language_info": {
   "codemirror_mode": {
    "name": "ipython",
    "version": 3
   },
   "file_extension": ".py",
   "mimetype": "text/x-python",
   "name": "python",
   "nbconvert_exporter": "python",
   "pygments_lexer": "ipython3",
   "version": "3.10.10"
  },
  "vscode": {
   "interpreter": {
    "hash": "4ce7c43b3e4615c04d053b09fe8bf39b7cc62a9a79485ec464b31c50e06232e0"
   }
  }
 },
 "nbformat": 4,
 "nbformat_minor": 5
}
